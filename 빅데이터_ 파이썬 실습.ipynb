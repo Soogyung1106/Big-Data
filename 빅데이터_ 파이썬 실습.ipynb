{
 "cells": [
  {
   "cell_type": "markdown",
   "metadata": {},
   "source": [
    "# 주피터 노트북 사용법\n",
    "* shift + Enter: 셀이 실행되고 다음셀로 이동됨.\n",
    "* Enter: 다시 편집 상태로 돌아옴\n",
    "* Esc 키를 누르고\n",
    "    * a 키를 누르면 \n",
    "    * dd 키를 누르면 셀이 삭제됨\n",
    "#### 마크다운이란?\n",
    "* 코드와 함께 문서화를 할 수 있음\n",
    "* 문서화 할 수 있는 문법임.\n"
   ]
  },
  {
   "cell_type": "markdown",
   "metadata": {},
   "source": [
    "# 파이썬 문법 속성"
   ]
  },
  {
   "cell_type": "markdown",
   "metadata": {},
   "source": [
    "## 함수"
   ]
  },
  {
   "cell_type": "code",
   "execution_count": 1,
   "metadata": {},
   "outputs": [],
   "source": [
    "def double(x):\n",
    "    return x*2"
   ]
  },
  {
   "cell_type": "markdown",
   "metadata": {},
   "source": [
    "## 람다함수"
   ]
  },
  {
   "cell_type": "code",
   "execution_count": 5,
   "metadata": {},
   "outputs": [
    {
     "ename": "SyntaxError",
     "evalue": "lambda cannot contain assignment (<ipython-input-5-a062a3ba2a51>, line 4)",
     "output_type": "error",
     "traceback": [
      "\u001b[1;36m  File \u001b[1;32m\"<ipython-input-5-a062a3ba2a51>\"\u001b[1;36m, line \u001b[1;32m4\u001b[0m\n\u001b[1;33m    y = apply_to_one(lambda x:x=4)\u001b[0m\n\u001b[1;37m                    ^\u001b[0m\n\u001b[1;31mSyntaxError\u001b[0m\u001b[1;31m:\u001b[0m lambda cannot contain assignment\n"
     ]
    }
   ],
   "source": [
    "def apply_to_one(f):\n",
    "    return f(1)\n",
    "\n",
    "y = apply_to_one(lambda x:x=4)"
   ]
  },
  {
   "cell_type": "code",
   "execution_count": 9,
   "metadata": {},
   "outputs": [
    {
     "name": "stdout",
     "output_type": "stream",
     "text": [
      "<function <lambda> at 0x0000021CEB629708>\n"
     ]
    }
   ],
   "source": [
    "def another_double(x):\n",
    "    return 2*x\n",
    "another_double = lambda x: 2 * x \n",
    "print(another_double)"
   ]
  },
  {
   "cell_type": "code",
   "execution_count": 8,
   "metadata": {},
   "outputs": [
    {
     "name": "stdout",
     "output_type": "stream",
     "text": [
      "hello\n",
      "my default message\n"
     ]
    }
   ],
   "source": [
    "def my_print(message = \"my default message\"):\n",
    "    print(message)\n",
    "my_print(\"hello\")\n",
    "my_print()"
   ]
  },
  {
   "cell_type": "markdown",
   "metadata": {},
   "source": [
    "## 디폴트 인자"
   ]
  },
  {
   "cell_type": "code",
   "execution_count": 13,
   "metadata": {
    "scrolled": true
   },
   "outputs": [
    {
     "name": "stdout",
     "output_type": "stream",
     "text": [
      "Joel Grus\n",
      "Joel Something\n",
      "What's his name Grus\n",
      "Grus Something\n"
     ]
    }
   ],
   "source": [
    "def full_name(first = \"What's his name\", last = \"Something\"):\n",
    "    return first + \" \" + last\n",
    "\n",
    "print(full_name(\"Joel\", \"Grus\"))\n",
    "print(full_name(\"Joel\"))\n",
    "print(full_name(last = \"Grus\")) # 인자의 이름을 명시해 주면 편리\n",
    "print(full_name(first = \"Grus\"))\n",
    "    "
   ]
  },
  {
   "cell_type": "markdown",
   "metadata": {},
   "source": [
    "## 문자열"
   ]
  },
  {
   "cell_type": "code",
   "execution_count": 14,
   "metadata": {},
   "outputs": [
    {
     "name": "stdout",
     "output_type": "stream",
     "text": [
      "data science\n",
      "data science\n"
     ]
    }
   ],
   "source": [
    "# 작은 따옴표와 큰 따옴표 구분하지 않고 모두 문자열을 나타냄\n",
    "single_quoted_string = 'data science'\n",
    "double_quoted_string = 'data science'\n",
    "print(single_quoted_string)\n",
    "print(double_quoted_string)"
   ]
  },
  {
   "cell_type": "code",
   "execution_count": 17,
   "metadata": {},
   "outputs": [
    {
     "data": {
      "text/plain": [
       "1"
      ]
     },
     "execution_count": 17,
     "metadata": {},
     "output_type": "execute_result"
    }
   ],
   "source": [
    "# 일부 특수 문자를 인코딩할 때 역슬래시 사용\n",
    "tab_string = '\\t'\n",
    "len(tab_string)  # 2가 아니라 1을 출력함, 탭 하나로 인식하여"
   ]
  },
  {
   "cell_type": "code",
   "execution_count": 18,
   "metadata": {},
   "outputs": [
    {
     "data": {
      "text/plain": [
       "2"
      ]
     },
     "execution_count": 18,
     "metadata": {},
     "output_type": "execute_result"
    }
   ],
   "source": [
    " # 역슬래시를 '역슬래시'로 사용하고 싶을 경우 -> r \n",
    "not_tab_string = r'\\t'\n",
    "len(not_tab_string)"
   ]
  },
  {
   "cell_type": "code",
   "execution_count": 20,
   "metadata": {},
   "outputs": [
    {
     "name": "stdout",
     "output_type": "stream",
     "text": [
      "This is the first line\n",
      "and this is second line\n"
     ]
    }
   ],
   "source": [
    "# 3개의 따옴표 -> 하나의 문자열을 여러 줄로\n",
    "multi_line_string = '''This is the first line\n",
    "and this is second line'''\n",
    "print(multi_line_string)"
   ]
  },
  {
   "cell_type": "code",
   "execution_count": 27,
   "metadata": {},
   "outputs": [
    {
     "name": "stdout",
     "output_type": "stream",
     "text": [
      "Joe Grus\n",
      "Joe Grus\n",
      "Joe Grus\n"
     ]
    }
   ],
   "source": [
    "# f-string: 문자열 안의 값을 손쉽게 추가 가능\n",
    "first_name = \"Joe\"\n",
    "last_name = \"Grus\"\n",
    "\n",
    "full_name1 = first_name + \" \" + last_name\n",
    "full_name2 = \"{0} {1}\" .format(first_name, last_name)\n",
    "full_name3 = f\"{first_name} {last_name}\"\n",
    "\n",
    "print(full_name1)\n",
    "print(full_name2)\n",
    "print(full_name3)\n"
   ]
  },
  {
   "cell_type": "markdown",
   "metadata": {},
   "source": [
    "## 예외 처리"
   ]
  },
  {
   "cell_type": "code",
   "execution_count": 28,
   "metadata": {},
   "outputs": [
    {
     "name": "stdout",
     "output_type": "stream",
     "text": [
      "cannot divide by zero\n"
     ]
    }
   ],
   "source": [
    "try: # try블럭 -> 에러가 발생할 수 있는 코드\n",
    "    print(0/0)\n",
    "except ZeroDivisionError: # 예외발생시 그에 대한 처리\n",
    "    print(\"cannot divide by zero\")"
   ]
  },
  {
   "cell_type": "markdown",
   "metadata": {},
   "source": [
    "## 리스트\n",
    "\n",
    "* 순서가 있음 \n",
    "* array와 유사 but 기능 훨씬 좋음 "
   ]
  },
  {
   "cell_type": "code",
   "execution_count": null,
   "metadata": {},
   "outputs": [],
   "source": [
    "integer_list = [1,2,3]\n",
    "heterogeneous_list = [\"string\", 0.1, ]"
   ]
  },
  {
   "cell_type": "code",
   "execution_count": 29,
   "metadata": {},
   "outputs": [],
   "source": [
    "# 튜플부터..."
   ]
  },
  {
   "cell_type": "code",
   "execution_count": 33,
   "metadata": {},
   "outputs": [
    {
     "name": "stdout",
     "output_type": "stream",
     "text": [
      "4.242640687119285\n"
     ]
    }
   ],
   "source": [
    "import math\n",
    "\n",
    "def get_circle_dist(a, b) :\n",
    "    return math.sqrt(math.pow(b[0]-a[0], 2)+math.pow(b[1]-a[1], 2))\n",
    "\n",
    "ball_x = 2\n",
    "ball_y = 3\n",
    "make_tuple = ball_x, ball_y # 튜플로 만들기\n",
    "\n",
    "circle = (5, 6)\n",
    "\n",
    "circle_dist = get_circle_dist(make_tuple, circle)\n",
    "print(circle_dist)\n"
   ]
  },
  {
   "cell_type": "code",
   "execution_count": 44,
   "metadata": {},
   "outputs": [
    {
     "name": "stdout",
     "output_type": "stream",
     "text": [
      "(0, 1)\n"
     ]
    }
   ],
   "source": [
    "c1 = (0, 1)\n",
    "c2 = (1, 2)\n",
    "list = [(c1, True), (c2, False)]\n",
    "\n",
    "print(list[0][0])\n",
    "\n"
   ]
  },
  {
   "cell_type": "code",
   "execution_count": 3,
   "metadata": {},
   "outputs": [
    {
     "name": "stdout",
     "output_type": "stream",
     "text": [
      "(1, 2)\n"
     ]
    }
   ],
   "source": [
    "c1 = (0, 1)\n",
    "c2 = (1, 2)\n",
    "circles_list = []\n",
    "\n",
    "\n",
    "make_tuple = (c1, 30)\n",
    "temp = (c2, 20)\n",
    "\n",
    "circles_list.append(make_tuple)\n",
    "circles_list.append(temp)\n",
    "\n",
    "#print(circles_list[0])\n",
    "\n",
    "# circles_list = [((1, 2), 30), ((2,2), 20)]\n",
    "\n",
    "#for TrueOrFalse in circles_list[:] :\n",
    "min_dist = circles_list[0][1]\n",
    "i = 1\n",
    "        \n",
    "while(1):\n",
    "    if circles_list[i][1]  < min_dist :\n",
    "        min_dist = circles_list[i][1]\n",
    "        \n",
    "        \n",
    "    if i +1 == len(circles_list) :\n",
    "        print(circles_list[i][0][0]) # x좌표\n",
    "        break     \n",
    "    \n",
    "    i += 1\n",
    "    "
   ]
  },
  {
   "cell_type": "code",
   "execution_count": null,
   "metadata": {},
   "outputs": [],
   "source": []
  },
  {
   "cell_type": "code",
   "execution_count": null,
   "metadata": {},
   "outputs": [],
   "source": []
  },
  {
   "cell_type": "code",
   "execution_count": null,
   "metadata": {},
   "outputs": [],
   "source": []
  }
 ],
 "metadata": {
  "kernelspec": {
   "display_name": "Python 3",
   "language": "python",
   "name": "python3"
  },
  "language_info": {
   "codemirror_mode": {
    "name": "ipython",
    "version": 3
   },
   "file_extension": ".py",
   "mimetype": "text/x-python",
   "name": "python",
   "nbconvert_exporter": "python",
   "pygments_lexer": "ipython3",
   "version": "3.7.6"
  }
 },
 "nbformat": 4,
 "nbformat_minor": 4
}
